{
 "cells": [
  {
   "cell_type": "markdown",
   "id": "9e7bd5b3",
   "metadata": {},
   "source": [
    "# Week 3 assessment\n",
    "\n",
    "## User Requirement (Manager)\n",
    "As a Data Scientist, you have been asked by your manager to build a system that helps the team to detect and translate complains made by the company’s French customers to English. And the system should also be able to translate to any language the team specifies.\n",
    "\n",
    "## User Case Story (Customer)\n",
    "The system should welcome me as a user\n",
    "The system should ask me to submit complain\n",
    "The system should tell me when my when my complain is submitted\n",
    "\n",
    "## User Case Story (Team)\n",
    "1.The system should list all the complain\n",
    "2.The system should ask me to pick a complain\n",
    "3.The system should be able to detect the language used in a complain text\n",
    "4.The system should be able to translate from one language to the other base on specification\n",
    "\n",
    "## TIPS:\n",
    "Variables,\n",
    "Functions,\n",
    "Loops,\n",
    "Conditionals\n",
    "\n",
    "Import JSON to load your response to a dictionary\n",
    "API: On the Google translate Rapidapi platform, leverage on the following:\n",
    "\n",
    "*POST translate\n",
    "\n",
    "*POST detect"
   ]
  },
  {
   "cell_type": "code",
   "execution_count": 1,
   "id": "6f9c25fc",
   "metadata": {},
   "outputs": [],
   "source": [
    "import json\n",
    "import requests\n",
    "from datetime import datetime as dt\n",
    "complaints={}        "
   ]
  },
  {
   "cell_type": "markdown",
   "id": "5d4bd975",
   "metadata": {},
   "source": [
    "# User interface"
   ]
  },
  {
   "cell_type": "code",
   "execution_count": 2,
   "id": "463002b2",
   "metadata": {},
   "outputs": [],
   "source": [
    "def details():\n",
    "    if complaints:\n",
    "        name =input(\"Enter your name: \")\n",
    "        submit= input(\"submit complaint: \")\n",
    "    "
   ]
  },
  {
   "cell_type": "code",
   "execution_count": null,
   "id": "44e6ab44",
   "metadata": {},
   "outputs": [
    {
     "name": "stdout",
     "output_type": "stream",
     "text": [
      "Welcome to the complaint platform\n"
     ]
    }
   ],
   "source": [
    "def main():\n",
    "    runtime= 1\n",
    "    print('Welcome to the complaint platform')\n",
    "    while runtime:\n",
    "        checker = int(input('1. Enter your name 2. submit complaint 3. quit'))\n",
    "        \n",
    "        if checker == 1:\n",
    "            details()\n",
    "        elif checker == 2:\n",
    "            submit= input(\"submit complaint\")\n",
    "            print(\"Your complain\")\n",
    "        elif checker == 3:\n",
    "             print(\"You have exited!\\n\")\n",
    "             break\n",
    "        else:\n",
    "            print('invalid value, Try again')\n",
    "            main()\n",
    "main()\n",
    "            \n",
    "    \n",
    "       "
   ]
  },
  {
   "cell_type": "markdown",
   "id": "ee0e8a71",
   "metadata": {},
   "source": [
    "## Team interface"
   ]
  },
  {
   "cell_type": "code",
   "execution_count": null,
   "id": "2a07e4e6",
   "metadata": {},
   "outputs": [],
   "source": [
    "def team():\n",
    "    id=int(input(\"Enter your Team ID\\n\"))\n",
    "    if id in team_id:\n",
    "        print(f\"Welcome Team ID: {id}\")\n",
    "        print('========================')\n",
    "        question = input(\"Do you want to translate a complain? Y or N...\\n\").upper()\n",
    "        if question == 'Y':\n",
    "            print('========================')\n",
    "            print(Customer_Complaints.values())\n",
    "            print('========================')\n",
    "            select_id = int(input(\"select --ID-- of complaint to translate...\\n\"))\n",
    "            for records in Customer_Complaints.values():\n",
    "                if select_id == records[\"ID\"]:\n",
    "                    print(records)\n",
    "                    complain = records[\"Complaint\"]\n",
    "                    detected = detect(complain)\n",
    "                    lang = detected[\"data\"][\"detections\"][0][0][\"language\"]\n",
    "                    for key, value in languages.items():\n",
    "                        if lang == key:\n",
    "                            detect_ = value\n",
    "                            lang_detect = detect_.capitalize()\n",
    "                            print(\"=============================================\")\n",
    "                            print(f\"The complain was written in {lang_detect}\")\n",
    "                            print(\"=============================================\")\n",
    "                            print([i for i in languages.values()])\n",
    "                            print(\"=============================================\")\n",
    "                            print(\"\")\n",
    "                            trans_lang = input(\"Select from list above, the language to be translated to\\n\")\n",
    "                            print(\"\")\n",
    "                            for i, j in languages.items():\n",
    "                                if trans_lang.lower() == j:\n",
    "                                    resp = translate(complain, i, lang)\n",
    "                                    print(f\"====Find the translation from {lang_detect} to {trans_lang.capitalize()} below====\")\n",
    "                                    print(resp[\"data\"][\"translations\"][0]['translatedText'])\n",
    "                                    print(\"=============================================\")\n",
    "                                    print(f\"Have a nice day!!!\")\n",
    "                                    print(\"=============================================\")\n",
    "                            \n",
    "                                    \n",
    "                else:\n",
    "                    continue\n",
    "        else:\n",
    "            print(\"Great, nice time...!\")\n",
    "            \n",
    "    else:\n",
    "        print(\"Hey sorry, you have no team access!!!\")\n",
    "    \n",
    "    "
   ]
  },
  {
   "cell_type": "code",
   "execution_count": null,
   "id": "b7b800db",
   "metadata": {},
   "outputs": [],
   "source": [
    "def detect(complain)\n",
    "\n",
    "url = \"https://google-translate1.p.rapidapi.com/language/translate/v2/detect\"\n",
    "\n",
    "payload = f\"q={complain}\"\n",
    "headers = {\n",
    "    'content-type': \"application/x-www-form-urlencoded\",\n",
    "    'accept-encoding': \"application/gzip\",\n",
    "    'x-rapidapi-host': \"google-translate1.p.rapidapi.com\",\n",
    "    'x-rapidapi-key': \"cb831359a5mshe9a6ab01273a56ap122fb2jsn5483a4bc6cf4\"\n",
    "    }\n",
    "\n",
    "response = requests.request(\"POST\", url, data=payload, headers=headers)\n",
    "response = json.loads(response.text)\n",
    "print(response)"
   ]
  },
  {
   "cell_type": "code",
   "execution_count": null,
   "id": "67b83805",
   "metadata": {},
   "outputs": [],
   "source": [
    "def translate(complain,lang_target,lang_src):\n",
    "\n",
    "url = \"https://google-translate1.p.rapidapi.com/language/translate/v2\"\n",
    "\n",
    "payload = f\"q={complain}&target={lang_target}&source={lang_src}\"\n",
    "headers = {\n",
    "    'content-type': \"application/x-www-form-urlencoded\",\n",
    "    'accept-encoding': \"application/gzip\",\n",
    "    'x-rapidapi-host': \"google-translate1.p.rapidapi.com\",\n",
    "    'x-rapidapi-key': \"cb831359a5mshe9a6ab01273a56ap122fb2jsn5483a4bc6cf4\"\n",
    "    }\n",
    "\n",
    "response = requests.request(\"POST\", url, data=payload, headers=headers)\n",
    "response = json.loads(response.text)\n",
    "print(response)\n"
   ]
  },
  {
   "cell_type": "code",
   "execution_count": null,
   "id": "2e0be418",
   "metadata": {},
   "outputs": [],
   "source": []
  }
 ],
 "metadata": {
  "kernelspec": {
   "display_name": "Python 3",
   "language": "python",
   "name": "python3"
  },
  "language_info": {
   "codemirror_mode": {
    "name": "ipython",
    "version": 3
   },
   "file_extension": ".py",
   "mimetype": "text/x-python",
   "name": "python",
   "nbconvert_exporter": "python",
   "pygments_lexer": "ipython3",
   "version": "3.8.8"
  }
 },
 "nbformat": 4,
 "nbformat_minor": 5
}
